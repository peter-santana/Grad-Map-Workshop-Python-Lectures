{
 "cells": [
  {
   "cell_type": "code",
   "execution_count": null,
   "metadata": {},
   "outputs": [],
   "source": [
    "# Students, you'll learn what this means in Lecture #3 so please ignore this for now\n",
    "from numpy.random import randint as random_number"
   ]
  },
  {
   "cell_type": "markdown",
   "metadata": {},
   "source": [
    "# Stellar Classification\n",
    "## Background\n",
    "The\n",
    "[Harvard Spectral Classification system for stars](https://en.wikipedia.org/wiki/Stellar_classification#Harvard_spectral_classification)\n",
    "classifies stars  based on their spectral type - where the type of a star is designated as a letter that corresponds to a given temperature range (since different temperatures correspond to different spectra!). \n",
    "Below there is a list of temperatures in Kelvin of a stellar cluster. \n",
    "\n",
    "Using the table linked from the above Wikipedia page, let's classify each of the stars in our temperature list."
   ]
  },
  {
   "cell_type": "code",
   "execution_count": null,
   "metadata": {},
   "outputs": [],
   "source": [
    "# These are your stellar temperatures, you're welcome!\n",
    "temp = [5809, 16589, 4698, 1869, 37809, 8634]"
   ]
  },
  {
   "cell_type": "markdown",
   "metadata": {},
   "source": [
    "## Using `if-elif` for discrete classification\n",
    "This problem will use `elif` statements, the useful sibling of `if` and `else`, it basically extends your `if` statements to test multiple situations.\n",
    "In our current situation, where each star will have *exactly one spectral type*, `elif` will really come through to make our `if` statements more efficient.\n",
    "\n",
    "Unlike using many `if` statements, `elif` only executes if no previous statements have been deemed `True`.\n",
    "This is nice, especially if we can anticipate which scenarios are most probable. "
   ]
  },
  {
   "cell_type": "markdown",
   "metadata": {},
   "source": [
    "Let's start with a simple classification problem to get into the mindset of `if-elif-else` logic.\n",
    "\n",
    "We want to classify if a random number `n` is between `0` and `100`, `101` and `149`, or `150` to infinity. \n",
    "\n",
    "This could be useful if, for example, we wanted to classify a person's IQ score.\n",
    "\n",
    "Fill in the `if-elif-else` statements below so that our number, `n`, will be classified.\n",
    "\n",
    "Use a `print()` statement to print out `n` and its classification (make sure you are descriptive!)\n",
    "\n",
    "You can use the following template: `print(n, 'your description here')`"
   ]
  },
  {
   "cell_type": "code",
   "execution_count": null,
   "metadata": {},
   "outputs": [],
   "source": [
    "# Fill in the parentheses. Don't forget indentation!\n",
    "n = random_number(50,250) # this should be given!\n",
    "if ():\n",
    "    #print statement here\n",
    "elif ():\n",
    "    #print statement here\n",
    "else:\n",
    "    #print statement here"
   ]
  },
  {
   "cell_type": "markdown",
   "metadata": {},
   "source": [
    "Test your statement a few times so that you see if it works for various numbers.\n",
    "Every time you run the cell, a new random number will be chosen, but you can also set it to make sure that the code works correctly.\n",
    "Just comment (`#`) before the `random_number()` function.\n",
    "\n",
    "Make sure to also test the boundary numbers, as they may act odd if there is a precarious `<=`."
   ]
  },
  {
   "cell_type": "markdown",
   "metadata": {},
   "source": [
    "## The loop\n",
    "We have a list of stellar classifications above. \n",
    "Our new classifier will be a lot like the number classifier, but you will need to use\n",
    "[the stellar classification boundaries in Wikipedia's table](https://en.wikipedia.org/wiki/Stellar_classification#Harvard_spectral_classification)\n",
    "instead of our previous boundaries.\n",
    "\n",
    "Another thing you will need to do is make a loop so that each star in `temp` is classified within one cell!\n",
    "\n",
    "You can do this with a while-loop, using a dummy index that goes up to `len(temp)`.\n",
    "\n",
    "Construct a loop such that, for each temperature in `temp`, you will print out the star's temperature and classification."
   ]
  },
  {
   "cell_type": "code",
   "execution_count": null,
   "metadata": {},
   "outputs": [],
   "source": [
    "# Define your loop here"
   ]
  },
  {
   "cell_type": "markdown",
   "metadata": {},
   "source": [
    "Your result should be a printout of each star with the correct stellar type, check the table to make sure they're being classified reasonably!"
   ]
  }
 ],
 "metadata": {
  "kernelspec": {
   "display_name": "Python 3",
   "language": "python",
   "name": "python3"
  },
  "language_info": {
   "codemirror_mode": {
    "name": "ipython",
    "version": 3
   },
   "file_extension": ".py",
   "mimetype": "text/x-python",
   "name": "python",
   "nbconvert_exporter": "python",
   "pygments_lexer": "ipython3",
   "version": "3.7.4"
  }
 },
 "nbformat": 4,
 "nbformat_minor": 2
}
